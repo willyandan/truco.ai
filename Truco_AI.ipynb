{
  "nbformat": 4,
  "nbformat_minor": 0,
  "metadata": {
    "kernelspec": {
      "display_name": "Python 3",
      "language": "python",
      "name": "python3"
    },
    "language_info": {
      "codemirror_mode": {
        "name": "ipython",
        "version": 3
      },
      "file_extension": ".py",
      "mimetype": "text/x-python",
      "name": "python",
      "nbconvert_exporter": "python",
      "pygments_lexer": "ipython3",
      "version": "3.7.3"
    },
    "colab": {
      "name": "Copy of Truco.AI.ipynb",
      "provenance": [],
      "include_colab_link": true
    }
  },
  "cells": [
    {
      "cell_type": "markdown",
      "metadata": {
        "id": "view-in-github",
        "colab_type": "text"
      },
      "source": [
        "<a href=\"https://colab.research.google.com/github/willyandan/truco.ai/blob/master/Truco_AI.ipynb\" target=\"_parent\"><img src=\"https://colab.research.google.com/assets/colab-badge.svg\" alt=\"Open In Colab\"/></a>"
      ]
    },
    {
      "cell_type": "code",
      "metadata": {
        "id": "9gY0RAqJzjXm",
        "colab_type": "code",
        "colab": {}
      },
      "source": [
        "import numpy as np\n",
        "import random"
      ],
      "execution_count": 0,
      "outputs": []
    },
    {
      "cell_type": "code",
      "metadata": {
        "id": "a5EbaRbXzjXw",
        "colab_type": "code",
        "colab": {}
      },
      "source": [
        "class Carta:\n",
        "    valor, naipe = \"\", \"\"\n",
        "    forca = 0\n",
        "    def __init__(self, valor, forca, naipe):\n",
        "        self.valor = valor\n",
        "        self.naipe = naipe\n",
        "        self.forca = forca\n",
        "    def __str__(self):\n",
        "        return self.valor+\"[\"+self.naipe+\"]\""
      ],
      "execution_count": 0,
      "outputs": []
    },
    {
      "cell_type": "code",
      "metadata": {
        "id": "ssvFJZolzjX0",
        "colab_type": "code",
        "colab": {}
      },
      "source": [
        "class Player:\n",
        "    #SER GAMER SER UM JOGADOR...\n",
        "    mao = []\n",
        "    pontos=0\n",
        "    def __init__(self):\n",
        "        mao = []\n",
        "        self.pontos = 0\n",
        "    def add_ponto(self):\n",
        "        self.pontos += 1\n",
        "    def set_mao(self, mao):\n",
        "        self.mao = mao"
      ],
      "execution_count": 0,
      "outputs": []
    },
    {
      "cell_type": "code",
      "metadata": {
        "id": "KaKZw77nzjX4",
        "colab_type": "code",
        "colab": {}
      },
      "source": [
        "class Jogo:\n",
        "    naipes = ['♥', '♣', '♠', '♦']\n",
        "    baralho = []\n",
        "    jogadores = []\n",
        "    manilha = None\n",
        "    analise = []\n",
        "    def __init__(self):\n",
        "        self.jogadores = []\n",
        "        self.baralho = []\n",
        "        self.jogadores.append(Player())\n",
        "        self.jogadores.append(Player())\n",
        "    def preenche_baralho(self):\n",
        "        self.baralho = []\n",
        "        for n in self.naipes:\n",
        "            i=1\n",
        "            for v in \"4567QJKA23\":\n",
        "                self.baralho.append(Carta(v, i, n))\n",
        "                i+=1\n",
        "    def partida(self):\n",
        "        self.analise = []\n",
        "        self.preenche_baralho()\n",
        "        random.shuffle(self.baralho)\n",
        "        self.manilha = self.escolhe_carta()\n",
        "        for player in self.jogadores:\n",
        "            player.set_mao(self.dar_mao())\n",
        "        return self.manilha\n",
        "    \n",
        "    def rodada(self, player, id_carta):\n",
        "        carta = player.mao[id_carta]\n",
        "        player.mao.pop(id_carta)\n",
        "        self.analise.append({\"p\":player, \"carta\":carta})\n",
        "    \n",
        "    def pontua(self):\n",
        "        if len(self.analise) == 0: return\n",
        "        \n",
        "        rodada_1 = self.analise[0:2]\n",
        "        rodada_2 = self.analise[2:4]\n",
        "        rodada_3 = self.analise[4:6]\n",
        "        campeoes = {1:None, 2: None, 3:None}\n",
        "        for x, rodada in enumerate([rodada_1, rodada_2, rodada_3], start=1):\n",
        "            campeoes[x] = self.compara_carta(rodada)\n",
        "            \n",
        "        if not campeoes[1] and not campeoes[2] and not campeoes[3]:\n",
        "            pass\n",
        "        elif not campeoes[1] and not campeoes[2]:\n",
        "            campeoes[3].add_ponto()\n",
        "        elif not campeoes[1]:\n",
        "            campeoes[2].add_ponto()\n",
        "        elif not campeoes[2]:\n",
        "            campeoes[1].add_ponto()\n",
        "        elif not campeoes[3]:\n",
        "            campeoes[1].add_ponto()\n",
        "        else:\n",
        "            if campeoes[1] == campeoes[2] or campeoes[1] == campeoes[3]:\n",
        "                campeoes[1].add_ponto()\n",
        "            else:\n",
        "                campeoes[2].add_ponto()\n",
        "        self.analise = []\n",
        "    def escolhe_carta(self):\n",
        "        card = self.baralho[-1]\n",
        "        self.baralho.pop()\n",
        "        return card\n",
        "\n",
        "    def dar_mao(self):\n",
        "        c1 = self.escolhe_carta()\n",
        "        c2 = self.escolhe_carta()\n",
        "        c3 = self.escolhe_carta()\n",
        "        return [c1, c2, c3]\n",
        "    \n",
        "    def compara_carta(self, rodada):\n",
        "        c1 = rodada[0][\"carta\"]\n",
        "        c2 = rodada[1][\"carta\"]\n",
        "        p1 = rodada[0][\"p\"]\n",
        "        p2 = rodada[1][\"p\"]\n",
        "        fortona = \"4567QJKA23\"[self.manilha.forca % 10]\n",
        "        naipe_forca = {'♥':2, '♣':3, '♠':1, '♦':0}\n",
        "        \n",
        "        if c1.valor == fortona and c2.valor == fortona:\n",
        "            #empate de manilha....\n",
        "            return p1 if naipe_forca[c1.naipe] > naipe_forca[c2.naipe] else p2\n",
        "        elif c1.valor == fortona:\n",
        "            #c1 ganha\n",
        "            return p1\n",
        "        elif c2.valor == fortona:\n",
        "            #c2 ganha\n",
        "            return p2\n",
        "        elif c1.forca == c2.forca:\n",
        "            return None\n",
        "        else:\n",
        "            #jogo normal\n",
        "            return p1 if c1.forca > c2.forca else p2\n",
        "            "
      ],
      "execution_count": 0,
      "outputs": []
    },
    {
      "cell_type": "code",
      "metadata": {
        "id": "9g8XNbZYzjX-",
        "colab_type": "code",
        "colab": {}
      },
      "source": [
        ""
      ],
      "execution_count": 0,
      "outputs": []
    },
    {
      "cell_type": "code",
      "metadata": {
        "id": "-jVK6C7QzjYB",
        "colab_type": "code",
        "colab": {}
      },
      "source": [
        "def make_jogo():\n",
        "  pontos = {}\n",
        "  jogo = Jogo()\n",
        "  for j in jogo.jogadores:\n",
        "    pontos[j] = []\n",
        "  manilha = jogo.partida()\n",
        "  for i in range(3):\n",
        "      for p in jogo.jogadores:\n",
        "        idx_carta = random.randint(0, len(p.mao) -1 )\n",
        "        carta_jogada = p.mao[idx_carta]\n",
        "        jogo.rodada(p, idx_carta)\n",
        "        pontos[p].append(np.array([ \n",
        "                          [manilha.forca],\n",
        "                          [carta_jogada.forca],\n",
        "                          [ {'♥':2, '♣':3, '♠':1, '♦':0}[carta_jogada.naipe] ], \n",
        "                          [len(p.mao) + 1],\n",
        "                          [idx_carta]\n",
        "                        ]))\n",
        "                \n",
        "  jogo.pontua()\n",
        "  if jogo.jogadores[0].pontos > jogo.jogadores[1].pontos:\n",
        "    return np.array(pontos[jogo.jogadores[0]])\n",
        "  elif jogo.jogadores[1].pontos > jogo.jogadores[0].pontos:\n",
        "    return np.array(pontos[jogo.jogadores[1]])"
      ],
      "execution_count": 0,
      "outputs": []
    },
    {
      "cell_type": "code",
      "metadata": {
        "id": "cN6v7K5vqIun",
        "colab_type": "code",
        "colab": {
          "base_uri": "https://localhost:8080/",
          "height": 34
        },
        "outputId": "c190676e-1db5-40e3-cca7-aec47d324222"
      },
      "source": [
        "'''\n",
        "FEATURES\n",
        "1- Manilha\n",
        "2- Cartas da mão (ou cartas disponiveis)\n",
        "3- Se o adversário já jogou a sua carta\n",
        "4- Carta do adversário (0 se ele não jogou ainda)\n",
        "5- Se ele venceu a partida ou não\n",
        "'''"
      ],
      "execution_count": 14,
      "outputs": [
        {
          "output_type": "execute_result",
          "data": {
            "text/plain": [
              "array([[22.,  0.,  0.,  0.,  0.,  0.,  0.,  0.,  0.,  0.]])"
            ]
          },
          "metadata": {
            "tags": []
          },
          "execution_count": 14
        }
      ]
    },
    {
      "cell_type": "code",
      "metadata": {
        "id": "p9CnqH7K09wn",
        "colab_type": "code",
        "outputId": "1766ccf5-17b2-4e7f-f951-fbd2db15e2aa",
        "colab": {
          "base_uri": "https://localhost:8080/",
          "height": 80
        }
      },
      "source": [
        "import keras\n",
        "from keras.models import Sequential\n",
        "from keras.layers import Dense, Dropout, Flatten\n",
        "from keras.utils import normalize"
      ],
      "execution_count": 0,
      "outputs": [
        {
          "output_type": "stream",
          "text": [
            "Using TensorFlow backend.\n"
          ],
          "name": "stderr"
        },
        {
          "output_type": "display_data",
          "data": {
            "text/html": [
              "<p style=\"color: red;\">\n",
              "The default version of TensorFlow in Colab will soon switch to TensorFlow 2.x.<br>\n",
              "We recommend you <a href=\"https://www.tensorflow.org/guide/migrate\" target=\"_blank\">upgrade</a> now \n",
              "or ensure your notebook will continue to use TensorFlow 1.x via the <code>%tensorflow_version 1.x</code> magic:\n",
              "<a href=\"https://colab.research.google.com/notebooks/tensorflow_version.ipynb\" target=\"_blank\">more info</a>.</p>\n"
            ],
            "text/plain": [
              "<IPython.core.display.HTML object>"
            ]
          },
          "metadata": {
            "tags": []
          }
        }
      ]
    },
    {
      "cell_type": "code",
      "metadata": {
        "id": "okjuYDezFNGS",
        "colab_type": "code",
        "colab": {}
      },
      "source": [
        ""
      ],
      "execution_count": 0,
      "outputs": []
    }
  ]
}